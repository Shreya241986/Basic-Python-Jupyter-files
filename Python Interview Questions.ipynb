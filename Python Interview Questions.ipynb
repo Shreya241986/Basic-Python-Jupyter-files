{
 "cells": [
  {
   "cell_type": "markdown",
   "metadata": {},
   "source": [
    "# Interview Questions "
   ]
  },
  {
   "cell_type": "markdown",
   "metadata": {},
   "source": [
    "###  Q1 Given an array of integers(+ve and -ve). WAP that can find the largest continuous sum.\n",
    "You just need to return the total sum amount, not the sequence.\n",
    "Examples:[7,8,9] = 7+8+9=24, \n",
    "         [-1,7,8,9,-10]=7+8+9=24, \n",
    "         [2,3,-10,9,2]=9+2=11,\n",
    "         [2,11,-10,9,2]=2+11+-10+9+2=14 and\n",
    "         [12,-10,7,-8,4,6]=12"
   ]
  },
  {
   "cell_type": "code",
   "execution_count": 1,
   "metadata": {},
   "outputs": [],
   "source": [
    "def largestContSum(numberlist):\n",
    "    # finding the sum of positive groups\n",
    "    positiveNumberSumlist = []\n",
    "    #negNumberpositionlist = []\n",
    "    numSum = 0\n",
    "\n",
    "    for i in numberlist:\n",
    "        if i>=0:\n",
    "            numSum += i\n",
    "        else:\n",
    "            positiveNumberSumlist.append(numSum)\n",
    "            numSum = 0\n",
    "            #negNumberpositionlist.append(i)  # find negative numbers and their positions  \n",
    "    positiveNumberSumlist.append(numSum)   \n",
    "    if sum(numberlist)> max(positiveNumberSumlist):\n",
    "        return sum(numberlist)\n",
    "    else:\n",
    "        return max(positiveNumberSumlist)        "
   ]
  },
  {
   "cell_type": "code",
   "execution_count": 2,
   "metadata": {
    "scrolled": true
   },
   "outputs": [
    {
     "data": {
      "text/plain": [
       "24"
      ]
     },
     "execution_count": 2,
     "metadata": {},
     "output_type": "execute_result"
    }
   ],
   "source": [
    "listNumbers = [7, 8, 9]\n",
    "largestContSum(listNumbers)"
   ]
  },
  {
   "cell_type": "code",
   "execution_count": 3,
   "metadata": {},
   "outputs": [
    {
     "data": {
      "text/plain": [
       "24"
      ]
     },
     "execution_count": 3,
     "metadata": {},
     "output_type": "execute_result"
    }
   ],
   "source": [
    "listNumbers = [-1, 7, 8, 9, -10]\n",
    "largestContSum(listNumbers)"
   ]
  },
  {
   "cell_type": "code",
   "execution_count": 4,
   "metadata": {},
   "outputs": [
    {
     "data": {
      "text/plain": [
       "11"
      ]
     },
     "execution_count": 4,
     "metadata": {},
     "output_type": "execute_result"
    }
   ],
   "source": [
    "listNumbers = [2, 3, -10, 9, 2]\n",
    "largestContSum(listNumbers)"
   ]
  },
  {
   "cell_type": "code",
   "execution_count": 5,
   "metadata": {},
   "outputs": [
    {
     "data": {
      "text/plain": [
       "14"
      ]
     },
     "execution_count": 5,
     "metadata": {},
     "output_type": "execute_result"
    }
   ],
   "source": [
    "listNumbers = [2, 11, -10, 9, 2]\n",
    "largestContSum(listNumbers)"
   ]
  },
  {
   "cell_type": "code",
   "execution_count": 6,
   "metadata": {},
   "outputs": [
    {
     "data": {
      "text/plain": [
       "12"
      ]
     },
     "execution_count": 6,
     "metadata": {},
     "output_type": "execute_result"
    }
   ],
   "source": [
    "listNumbers = [12, -10, 7, -8, 4, 6]\n",
    "largestContSum(listNumbers)"
   ]
  },
  {
   "cell_type": "code",
   "execution_count": 7,
   "metadata": {},
   "outputs": [],
   "source": [
    "# Another Solution\n",
    "def large_cont_sum(arr):\n",
    "    if len(arr) == 0:\n",
    "        return 0\n",
    "    max_sum = arr[0]\n",
    "    current_sum = arr[0]\n",
    "    \n",
    "    for num in arr[1:]:\n",
    "        current_sum = max(current_sum+num, num)\n",
    "        max_sum = max(current_sum, max_sum)\n",
    "        \n",
    "    print(max_sum)    "
   ]
  },
  {
   "cell_type": "code",
   "execution_count": 11,
   "metadata": {},
   "outputs": [
    {
     "name": "stdout",
     "output_type": "stream",
     "text": [
      "14\n"
     ]
    }
   ],
   "source": [
    "large_cont_sum([2,11,-10,9,2])"
   ]
  },
  {
   "cell_type": "markdown",
   "metadata": {},
   "source": [
    "### Q2 Given a string on the form 'AAAABBBBCCCCCDDEEEE' compress it to become 'A4B4C5D2E4'. For this problem, you can falsely \"compress\" strings of single or double letters.For instance, it is okay for 'AAB' to return 'A2B1' even though this is technically takes more space.The function should be also be case sensitive, so that a string 'AAAaaa' returns 'A3a3'"
   ]
  },
  {
   "cell_type": "code",
   "execution_count": 37,
   "metadata": {},
   "outputs": [],
   "source": [
    "def compress_strings(string):\n",
    "    \n",
    "    if len(string) == 0:\n",
    "        return 0\n",
    "    result = ''\n",
    "    count = 0\n",
    "    character = string[0]\n",
    "    for char in range(0,len(string)):\n",
    "        if character == string[char]:\n",
    "            count += 1\n",
    "        else:\n",
    "            result += str(character)+str(count)\n",
    "            character = string[char]\n",
    "            count = 1\n",
    "    if count>=1:\n",
    "        result += str(character)+str(count)\n",
    "        \n",
    "    return result        \n"
   ]
  },
  {
   "cell_type": "code",
   "execution_count": 40,
   "metadata": {},
   "outputs": [
    {
     "data": {
      "text/plain": [
       "'A3a3'"
      ]
     },
     "execution_count": 40,
     "metadata": {},
     "output_type": "execute_result"
    }
   ],
   "source": [
    "compress_strings('AAAaaa')"
   ]
  },
  {
   "cell_type": "code",
   "execution_count": null,
   "metadata": {},
   "outputs": [],
   "source": []
  },
  {
   "cell_type": "markdown",
   "metadata": {},
   "source": [
    "### Q3. You are given an array of historical stock prices per day, for example [6,13,2,10,3,5]. Write an algorithm that figures out what days(indes of array) you could buy and sell the stock for maximum profifit. You are only allowed to buy the stock once and sell it once. Also no shorting the stock, you have to buy before selling. \n",
    "Example [6,13,2,10,3,5] given , You could make most profit by buying on day 3 price of dollar 2 and selling on day4, netting you an $8 gain.\n",
    "Hint: You should be able to solve this problem by going through the array once!."
   ]
  },
  {
   "cell_type": "code",
   "execution_count": 73,
   "metadata": {},
   "outputs": [],
   "source": [
    "def max_profit(list_of_stock_prices):\n",
    "    dummy_list = list_of_stock_prices.copy()\n",
    "    for i in range(0,6):\n",
    "        \n",
    "        purchase_price = buying_price(dummy_list) \n",
    "        sell_price = selling_price(dummy_list)\n",
    "        sell_day = list_of_stock_prices.index(sell_price)+1\n",
    "        purchase_day = list_of_stock_prices.index(purchase_price)+1\n",
    "        \n",
    "        if sell_day>purchase_day:\n",
    "            profit = sell_price - purchase_price\n",
    "            print(f\"You could make profit of ${profit} by purchasing on day{purchase_day} and selling on day{sell_day}\")\n",
    "            break\n",
    "        else:\n",
    "            dummy_list.pop(0)# will delete first element always\n",
    "            \n",
    "\n",
    "def buying_price(stockPrices):\n",
    "    BP = min(stockPrices)\n",
    "    return BP\n",
    "\n",
    "def selling_price(stockPrices):\n",
    "    SP = max(stockPrices)\n",
    "    return SP\n",
    "    \n",
    "    \n",
    "        "
   ]
  },
  {
   "cell_type": "code",
   "execution_count": 74,
   "metadata": {},
   "outputs": [
    {
     "name": "stdout",
     "output_type": "stream",
     "text": [
      "You could make profit of $13 by purchasing on day1 and selling on day5\n"
     ]
    }
   ],
   "source": [
    "max_profit([2,6,4,10,15,12])"
   ]
  },
  {
   "cell_type": "code",
   "execution_count": 75,
   "metadata": {},
   "outputs": [
    {
     "name": "stdout",
     "output_type": "stream",
     "text": [
      "You could make profit of $8 by purchasing on day3 and selling on day4\n"
     ]
    }
   ],
   "source": [
    "max_profit([6,13,2,10,3,5])"
   ]
  },
  {
   "cell_type": "markdown",
   "metadata": {},
   "source": [
    "### Another way"
   ]
  },
  {
   "cell_type": "code",
   "execution_count": 76,
   "metadata": {},
   "outputs": [],
   "source": [
    "def profit(stock_prices):\n",
    "    if len(stock_prices)<2:\n",
    "        return \"Hey I need more prices!\"\n",
    "    min_stock_price = stock_prices[0]\n",
    "    max_profit = 0\n",
    "    for price in stock_prices:\n",
    "        min_stock_prices = min(min_stock_price,price)\n",
    "        comparision_profit = price - min_stock_price\n",
    "        max_profit = max(max_profit,comparision_profit)\n",
    "    return max_profit"
   ]
  },
  {
   "cell_type": "markdown",
   "metadata": {},
   "source": [
    "### Q4. Consider an array of non-negative integers. A second array is formed by shuffling the elements of the first array and deleting a random element. Given these two array, find which element is missing in the second array.\n",
    "For example, given [1,2,3,4,5] and [1,3,4,5]. The missing value was 2. Try to solve this problem using multiple ways."
   ]
  },
  {
   "cell_type": "code",
   "execution_count": 94,
   "metadata": {},
   "outputs": [],
   "source": [
    "import random\n",
    "def solution(number_list):\n",
    "\n",
    "    sublist = number_list.copy()\n",
    "    sublist.remove(random.choice(number_list)) #dropping a random number\n",
    "    print(sublist)\n",
    "    for element in number_list:\n",
    "        if element in sublist:\n",
    "            continue\n",
    "        else:\n",
    "            print(\"element is:\", element)\n",
    "            break"
   ]
  },
  {
   "cell_type": "code",
   "execution_count": 96,
   "metadata": {},
   "outputs": [
    {
     "name": "stdout",
     "output_type": "stream",
     "text": [
      "[56, 85, 45, 47]\n",
      "element is: 23\n"
     ]
    }
   ],
   "source": [
    "solution([56,85,45,23,47])"
   ]
  },
  {
   "cell_type": "code",
   "execution_count": null,
   "metadata": {},
   "outputs": [],
   "source": []
  }
 ],
 "metadata": {
  "kernelspec": {
   "display_name": "Python 3",
   "language": "python",
   "name": "python3"
  },
  "language_info": {
   "codemirror_mode": {
    "name": "ipython",
    "version": 3
   },
   "file_extension": ".py",
   "mimetype": "text/x-python",
   "name": "python",
   "nbconvert_exporter": "python",
   "pygments_lexer": "ipython3",
   "version": "3.6.10"
  }
 },
 "nbformat": 4,
 "nbformat_minor": 4
}
